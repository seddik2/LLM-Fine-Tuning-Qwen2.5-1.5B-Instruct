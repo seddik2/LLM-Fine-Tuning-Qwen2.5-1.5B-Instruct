{
 "cells": [
  {
   "cell_type": "markdown",
   "metadata": {
    "id": "4yDdcWAJsmf_"
   },
   "source": [
    "### **Fine-Tuning Large Language Models**"
   ]
  },
  {
   "cell_type": "markdown",
   "metadata": {
    "id": "OicYSU_s6xzM"
   },
   "source": [
    "## Mount Your Google Drive"
   ]
  },
  {
   "cell_type": "code",
   "execution_count": null,
   "metadata": {
    "colab": {
     "base_uri": "https://localhost:8080/"
    },
    "executionInfo": {
     "elapsed": 45094,
     "status": "ok",
     "timestamp": 1747585001641,
     "user": {
      "displayName": "Seddik Mohey",
      "userId": "07032548812332197411"
     },
     "user_tz": -180
    },
    "id": "zzExaTCGnZRF",
    "outputId": "ab9c9ce9-1339-4b83-8b9c-24c348b45db2"
   },
   "outputs": [
    {
     "name": "stdout",
     "output_type": "stream",
     "text": [
      "Mounted at /gdrive\n"
     ]
    }
   ],
   "source": [
    "from google.colab import drive\n",
    "drive.mount('/gdrive')"
   ]
  },
  {
   "cell_type": "markdown",
   "metadata": {
    "id": "zDV3lCZHxwOe"
   },
   "source": [
    "## Setup"
   ]
  },
  {
   "cell_type": "code",
   "execution_count": null,
   "metadata": {
    "collapsed": true,
    "id": "vkwAcuBYC0YG"
   },
   "outputs": [],
   "source": [
    "!pip install -qU faker==35.2.0"
   ]
  },
  {
   "cell_type": "code",
   "execution_count": null,
   "metadata": {
    "collapsed": true,
    "id": "vhrM7Kgyxydu"
   },
   "outputs": [],
   "source": [
    "!pip install -qU transformers==4.48.3 datasets==3.2.0 optimum==1.24.0\n",
    "!pip install -qU openai==1.61.0 wandb\n",
    "!pip install -qU json-repair==0.29.1\n"
   ]
  },
  {
   "cell_type": "code",
   "execution_count": null,
   "metadata": {
    "collapsed": true,
    "id": "8526F9lVKilu"
   },
   "outputs": [],
   "source": [
    "!git clone --depth 1 https://github.com/hiyouga/LLaMA-Factory.git\n",
    "!cd LLaMA-Factory && pip install -e ."
   ]
  },
  {
   "cell_type": "code",
   "execution_count": null,
   "metadata": {
    "collapsed": true,
    "id": "65ZhrnavyL0Q"
   },
   "outputs": [],
   "source": [
    "from google.colab import userdata\n",
    "import wandb\n",
    "\n",
    "wandb.login(key=userdata.get('wandb'))\n",
    "hf_token = userdata.get('huggingface')\n",
    "!huggingface-cli login --token {hf_token}"
   ]
  },
  {
   "cell_type": "markdown",
   "metadata": {
    "id": "uLdOa2oSyuBE"
   },
   "source": [
    "## Imports"
   ]
  },
  {
   "cell_type": "code",
   "execution_count": null,
   "metadata": {
    "id": "y8utsMq7y_TP"
   },
   "outputs": [],
   "source": [
    "import json\n",
    "import os\n",
    "from os.path import join\n",
    "import random\n",
    "from tqdm.auto import tqdm\n",
    "import requests\n",
    "\n",
    "from pydantic import BaseModel, Field\n",
    "from typing import List, Optional, Literal\n",
    "from datetime import datetime\n",
    "\n",
    "import json_repair\n",
    "\n",
    "from transformers import AutoModelForCausalLM, AutoTokenizer, BitsAndBytesConfig\n",
    "import torch\n",
    "\n",
    "data_dir = \"/gdrive/My Drive/Project\"\n",
    "base_model_id = \"Qwen/Qwen2.5-1.5B-Instruct\"\n",
    "\n",
    "device = \"cuda\"\n",
    "torch_dtype = None\n",
    "\n",
    "def parse_json(text):\n",
    "    try:\n",
    "        return json_repair.loads(text)\n",
    "    except:\n",
    "        return None"
   ]
  },
  {
   "cell_type": "markdown",
   "metadata": {
    "id": "UDKfM9Ua00SH"
   },
   "source": [
    "## Tasks"
   ]
  },
  {
   "cell_type": "code",
   "execution_count": null,
   "metadata": {
    "id": "ShkKHFV-01gy"
   },
   "outputs": [],
   "source": [
    "story = \"\"\"\n",
    "ذكرت مجلة فوربس أن العائلة تلعب دورا محوريا في تشكيل علاقة الأفراد بالمال،\n",
    " حيث تتأثر هذه العلاقة بأنماط السلوك المالي المتوارثة عبر الأجيال.\n",
    "\n",
    "التقرير الذي يستند إلى أبحاث الأستاذ الجامعي شاين إنيت حول\n",
    "الرفاه المالي يوضح أن لكل شخص \"شخصية مالية\" تتحدد وفقا لطريقة\n",
    " تفاعله مع المال، والتي تتأثر بشكل مباشر بتربية الأسرة وتجارب الطفولة.\n",
    "\n",
    " الأبعاد الثلاثة للعلاقة بالمال\n",
    "بحسب الدراسة، هناك ثلاثة أبعاد رئيسية تشكّل علاقتنا بالمال:\n",
    "\n",
    "الاكتساب (A): يميل الأفراد الذين ينتمون لهذا\n",
    " البعد إلى اعتبار المال سلعة قابلة للجمع، حيث يرون\n",
    "في تحقيق الثروة هدفا بحد ذاته. والجانب السلبي لهذا\n",
    " النمط هو إمكانية التحول إلى هوس بالثروة أو العكس،\n",
    " أي رفض تام لاكتساب المال باعتباره مصدرا للفساد.\n",
    "\n",
    "الاستخدام (U): يرى هؤلاء الأشخاص المال أداة للتمتع بالحياة، حيث يربطون قيمته بقدرته على توفير\n",
    "المتعة والراحة. ومع ذلك، قد يصبح\n",
    "البعض مدمنا على الإنفاق، في حين يتجه آخرون إلى التقشف المفرط خوفا من المستقبل.\n",
    "\n",
    "الإدارة (M): أصحاب هذا النمط يعتبرون المال مسؤولية تتطلب التخطيط الدقيق. لكن في بعض الحالات،\n",
    " قد يتحول الأمر إلى هوس مفرط بإدارة الإنفاق، مما يؤثر سلبا على العلاقات الشخصية.\n",
    "\n",
    " كيف تؤثر العائلة على علاقتنا بالمال؟\n",
    "يشير التقرير إلى أن التجارب الأسرية تلعب دورا رئيسيا في تحديد\n",
    " \"الشخصية المالية\" لكل فرد، على سبيل المثال، إذا كان أحد الوالدين يعتمد على المال\n",
    "كمكافأة للسلوك الجيد، فقد يتبنى الطفل لاحقا النمط نفسه في حياته البالغة.\n",
    "\n",
    "لتحليل هذه التأثيرات بشكل دقيق، طورت رابطة العلاج المالي\n",
    "(Financial Therapy Association) أداة تسمى مخطط الجينوم المالي (Money Genogram)،\n",
    "وهو نموذج يُستخدم لتحديد الأنماط المالية داخل العائلة.\n",
    "\n",
    "تتضمن هذه الأداة:\n",
    "\n",
    "رسم شجرة عائلية.\n",
    "تصنيف أفراد العائلة وفقا للأبعاد الثلاثة للعلاقة بالمال (A ،U ،M).\n",
    "تحديد ما إذا كان السلوك المالي لكل فرد صحيا (+) أو غير صحي (-).\n",
    "على سبيل المثال، إذا نشأ شخص في عائلة\n",
    "اعتادت على الإنفاق المفرط، فقد يكون لديه ميل قوي إلى اتباع النمط نفسه،\n",
    " أو العكس تماما، حيث يصبح مقتصدا بشكل مبالغ فيه كرد فعل نفسي.\n",
    "\"\"\""
   ]
  },
  {
   "cell_type": "code",
   "execution_count": null,
   "metadata": {
    "id": "A4y-imWZYXhn"
   },
   "outputs": [],
   "source": [
    "# # # Another Sample\n",
    "\n",
    "# story = \"\"\"\n",
    "# قرر المجلس القومي للأجور في مصر، زيادة الحد الأدنى لأجر العاملين بالقطاع الخاص إلى 7 آلاف جنيه شهريًا مقابل 6 آلاف جنيه، على أن يتم تطبيق الزيادة اعتبارًا من 1 مارس 2025.\n",
    "# كما قرر المجلس أن يكون الحد الأدنى لقيمة العلاوة الدورية للعاملين بالقطاع الخاص 250 جنيهًا شهريًا، ولأول مرة يقرر المجلس القومي للأجور وضع حد أدنى للأجر للعمل المؤقت \"جزء من الوقت\"، بحيث لا يقل أجرهم عن 28 جنيهًا صافيًا في الساعة، وذلك وفقًا لتعريفهم الوارد في قانون العمل.\n",
    "# وقالت وزيرة التخطيط والتنمية الاقتصادية والتعاون الدولي، رانيا المشاط، إن رفع الحد الأدنى للأجور يأتي في إطار الحرص على الاستجابة للمستجدات الاقتصادية الراهنة، بما يعزز الاستقرار الاقتصادي والاجتماعي، مضيفة أن ذلك يتسق مع المعايير الدولية، حيث تؤكد منظمة العمل الدولية على ضرورة مراجعة الحد الأدنى للأجور على أساس دوري، لحماية القوة الشرائية للأسر، واستيعاب التغيرات الاقتصادية التدريجية.\n",
    "# \"\"\""
   ]
  },
  {
   "cell_type": "markdown",
   "metadata": {
    "id": "_Hkuh7dM08Zk"
   },
   "source": [
    "### Details Extraction"
   ]
  },
  {
   "cell_type": "code",
   "execution_count": null,
   "metadata": {
    "id": "5Uq6gtPO0-np"
   },
   "outputs": [],
   "source": [
    "StoryCategory = Literal[\n",
    "    \"politics\", \"sports\", \"art\", \"technology\", \"economy\",\n",
    "    \"health\", \"entertainment\", \"science\",\n",
    "    \"not_specified\"\n",
    "]\n",
    "\n",
    "EntityType = Literal[\n",
    "    \"person-male\", \"person-female\", \"location\", \"organization\", \"event\", \"time\",\n",
    "    \"quantity\", \"money\", \"product\", \"law\", \"disease\", \"artifact\", \"not_specified\"\n",
    "]\n",
    "\n",
    "class Entity(BaseModel):\n",
    "    entity_value: str = Field(..., description=\"The actual name or value of the entity.\")\n",
    "    entity_type: EntityType = Field(..., description=\"The type of recognized entity.\")\n",
    "\n",
    "class NewsDetails(BaseModel):\n",
    "    story_title: str = Field(..., min_length=5, max_length=300,\n",
    "                             description=\"A fully informative and SEO optimized title of the story.\")\n",
    "\n",
    "    story_keywords: List[str] = Field(..., min_items=1,\n",
    "                                      description=\"Relevant keywords associated with the story.\")\n",
    "\n",
    "    story_summary: List[str] = Field(\n",
    "                                    ..., min_items=1, max_items=5,\n",
    "                                    description=\"Summarized key points about the story (1-5 points).\"\n",
    "                                )\n",
    "\n",
    "    story_category: StoryCategory = Field(..., description=\"Category of the news story.\")\n",
    "\n",
    "    story_entities: List[Entity] = Field(..., min_items=1, max_items=10,\n",
    "                                        description=\"List of identified entities in the story.\")\n"
   ]
  },
  {
   "cell_type": "code",
   "execution_count": null,
   "metadata": {
    "id": "N6838nmZ5Nsl"
   },
   "outputs": [],
   "source": [
    "details_extraction_messages = [\n",
    "    {\n",
    "        \"role\": \"system\",\n",
    "        \"content\": \"\\n\".join([\n",
    "            \"You are an NLP data paraser.\",\n",
    "            \"You will be provided by an Arabic text associated with a Pydantic scheme.\",\n",
    "            \"Generate the ouptut in the same story language.\",\n",
    "            \"You have to extract JSON details from text according the Pydantic details.\",\n",
    "            \"Extract details as mentioned in text.\",\n",
    "            \"Do not generate any introduction or conclusion.\"\n",
    "        ])\n",
    "    },\n",
    "    {\n",
    "        \"role\": \"user\",\n",
    "        \"content\": \"\\n\".join([\n",
    "            \"## Story:\",\n",
    "            story.strip(),\n",
    "            \"\",\n",
    "\n",
    "            \"## Pydantic Details:\",\n",
    "            json.dumps(\n",
    "                NewsDetails.model_json_schema(), ensure_ascii=False\n",
    "            ),\n",
    "            \"\",\n",
    "\n",
    "            \"## Story Details:\",\n",
    "            \"```json\"\n",
    "        ])\n",
    "    }\n",
    "]"
   ]
  },
  {
   "cell_type": "markdown",
   "metadata": {
    "id": "w1E3YIOW-f_1"
   },
   "source": [
    "### Translation"
   ]
  },
  {
   "cell_type": "code",
   "execution_count": null,
   "metadata": {
    "id": "y6J9rGpY-jmV"
   },
   "outputs": [],
   "source": [
    "class TranslatedStory(BaseModel):\n",
    "    translated_title: str = Field(..., min_length=5, max_length=300,\n",
    "                                  description=\"Suggested translated title of the news story.\")\n",
    "    translated_content: str = Field(..., min_length=5,\n",
    "                                    description=\"Translated content of the news story.\")\n",
    "\n",
    "targeted_lang = \"English\"\n",
    "\n",
    "translation_messages = [\n",
    "    {\n",
    "        \"role\": \"system\",\n",
    "        \"content\": \"\\n\".join([\n",
    "            \"You are a professional translator.\",\n",
    "            \"You will be provided by an Arabic text.\",\n",
    "            \"You have to translate the text into the `Targeted Language`.\",\n",
    "            \"Follow the provided Scheme to generate a JSON\",\n",
    "            \"Do not generate any introduction or conclusion.\"\n",
    "        ])\n",
    "    },\n",
    "    {\n",
    "        \"role\": \"user\",\n",
    "        \"content\":  \"\\n\".join([\n",
    "            \"## Story:\",\n",
    "            story.strip(),\n",
    "            \"\",\n",
    "\n",
    "            \"## Pydantic Details:\",\n",
    "            json.dumps( TranslatedStory.model_json_schema(), ensure_ascii=False ),\n",
    "            \"\",\n",
    "\n",
    "            \"## Targeted Language:\",\n",
    "            targeted_lang,\n",
    "            \"\",\n",
    "\n",
    "            \"## Translated Story:\",\n",
    "            \"```json\"\n",
    "\n",
    "        ])\n",
    "    }\n",
    "]"
   ]
  },
  {
   "cell_type": "markdown",
   "metadata": {
    "id": "wkVOXy3y7YI_"
   },
   "source": [
    "## Evaluation"
   ]
  },
  {
   "cell_type": "code",
   "execution_count": null,
   "metadata": {
    "collapsed": true,
    "id": "6Au-Yng57ZZD"
   },
   "outputs": [],
   "source": [
    "model = AutoModelForCausalLM.from_pretrained(\n",
    "    base_model_id,\n",
    "    device_map=\"auto\",\n",
    "    torch_dtype = torch_dtype\n",
    ")\n",
    "\n",
    "tokenizer = AutoTokenizer.from_pretrained(base_model_id)"
   ]
  },
  {
   "cell_type": "code",
   "execution_count": null,
   "metadata": {
    "collapsed": true,
    "id": "9T3NyBjaRn1i"
   },
   "outputs": [],
   "source": [
    "model"
   ]
  },
  {
   "cell_type": "code",
   "execution_count": null,
   "metadata": {
    "colab": {
     "base_uri": "https://localhost:8080/"
    },
    "executionInfo": {
     "elapsed": 7409,
     "status": "ok",
     "timestamp": 1747585489169,
     "user": {
      "displayName": "Seddik Mohey",
      "userId": "07032548812332197411"
     },
     "user_tz": -180
    },
    "id": "coJEFfI98amn",
    "outputId": "9b4dc4ca-b42c-4bb3-b96f-d3010067a49b"
   },
   "outputs": [
    {
     "name": "stderr",
     "output_type": "stream",
     "text": [
      "The attention mask is not set and cannot be inferred from input because pad token is same as eos token. As a consequence, you may observe unexpected behavior. Please pass your input's `attention_mask` to obtain reliable results.\n"
     ]
    }
   ],
   "source": [
    "text = tokenizer.apply_chat_template(\n",
    "    details_extraction_messages,\n",
    "    tokenize=False,\n",
    "    add_generation_prompt=True\n",
    ")\n",
    "\n",
    "model_inputs = tokenizer([text], return_tensors=\"pt\").to(device)\n",
    "\n",
    "generated_ids = model.generate(\n",
    "    model_inputs.input_ids,\n",
    "    max_new_tokens=1024,\n",
    "    do_sample=False, top_k=None, temperature=None, top_p=None,\n",
    ")\n",
    "\n",
    "generated_ids = [\n",
    "    output_ids[len(input_ids):]\n",
    "    for input_ids, output_ids in zip(model_inputs.input_ids, generated_ids)\n",
    "]\n",
    "\n",
    "response = tokenizer.batch_decode(generated_ids, skip_special_tokens=True)[0]"
   ]
  },
  {
   "cell_type": "code",
   "execution_count": null,
   "metadata": {
    "collapsed": true,
    "id": "vZfYD0K5-SLF"
   },
   "outputs": [],
   "source": [
    "print(response)"
   ]
  },
  {
   "cell_type": "code",
   "execution_count": null,
   "metadata": {
    "id": "UqSsu4dg_qYd"
   },
   "outputs": [],
   "source": [
    "text = tokenizer.apply_chat_template(\n",
    "    translation_messages,\n",
    "    tokenize=False,\n",
    "    add_generation_prompt=True\n",
    ")\n",
    "\n",
    "model_inputs = tokenizer([text], return_tensors=\"pt\").to(device)\n",
    "\n",
    "generated_ids = model.generate(\n",
    "    model_inputs.input_ids,\n",
    "    max_new_tokens=1024,\n",
    "    do_sample=False, top_k=None, temperature=None, top_p=None,\n",
    ")\n",
    "\n",
    "generated_ids = [\n",
    "    output_ids[len(input_ids):]\n",
    "    for input_ids, output_ids in zip(model_inputs.input_ids, generated_ids)\n",
    "]\n",
    "\n",
    "response = tokenizer.batch_decode(generated_ids, skip_special_tokens=True)[0]"
   ]
  },
  {
   "cell_type": "markdown",
   "metadata": {
    "id": "iWCWwnYiBUY0"
   },
   "source": [
    "## Knowledge Distillation"
   ]
  },
  {
   "cell_type": "code",
   "execution_count": null,
   "metadata": {
    "id": "_RBNZW5jBvVe"
   },
   "outputs": [],
   "source": [
    "raw_data_path = join(data_dir, \"datasets\", \"news-sample.jsonl\")\n",
    "\n",
    "raw_data = []\n",
    "for line in open(raw_data_path):\n",
    "    if line.strip() == \"\":\n",
    "        continue\n",
    "\n",
    "    raw_data.append(\n",
    "        json.loads(line.strip())\n",
    "    )\n",
    "\n",
    "random.Random(101).shuffle(raw_data)\n",
    "\n",
    "print(f\"Raw data: {len(raw_data)}\")"
   ]
  },
  {
   "cell_type": "code",
   "execution_count": null,
   "metadata": {
    "id": "lGPQ_MuwD0aS"
   },
   "outputs": [],
   "source": [
    "raw_data[0]['content']"
   ]
  },
  {
   "cell_type": "markdown",
   "metadata": {
    "id": "94uornFksgUo"
   },
   "source": [
    "\n",
    "\n",
    "## Format Finetuning Datasets"
   ]
  },
  {
   "cell_type": "code",
   "execution_count": null,
   "metadata": {
    "id": "Y8lOWVB_soC8"
   },
   "outputs": [],
   "source": [
    "sft_data_path = join(data_dir, \"datasets\", \"sft.jsonl\")\n",
    "llm_finetunning_data = []\n",
    "\n",
    "system_message = \"\\n\".join([\n",
    "    \"You are a professional NLP data parser.\",\n",
    "    \"Follow the provided `Task` by the user and the `Output Scheme` to generate the `Output JSON`.\",\n",
    "    \"Do not generate any introduction or conclusion.\"\n",
    "])\n",
    "\n",
    "for line in open(sft_data_path):\n",
    "    if line.strip() == \"\":\n",
    "        continue\n",
    "\n",
    "    rec = json.loads(line.strip())\n",
    "\n",
    "    llm_finetunning_data.append({\n",
    "        \"system\": system_message,\n",
    "        \"instruction\": \"\\n\".join([\n",
    "            \"# Story:\",\n",
    "            rec[\"story\"],\n",
    "\n",
    "            \"# Task:\",\n",
    "            rec[\"task\"],\n",
    "\n",
    "            \"# Output Scheme:\",\n",
    "            rec[\"output_scheme\"],\n",
    "            \"\",\n",
    "\n",
    "            \"# Output JSON:\",\n",
    "            \"```json\"\n",
    "\n",
    "        ]),\n",
    "        \"input\": \"\",\n",
    "        \"output\": \"\\n\".join([\n",
    "            \"```json\",\n",
    "            json.dumps(rec[\"response\"], ensure_ascii=False, default=str),\n",
    "            \"```\"\n",
    "        ]),\n",
    "        \"history\": []\n",
    "    })\n",
    "\n",
    "random.Random(101).shuffle(llm_finetunning_data)"
   ]
  },
  {
   "cell_type": "code",
   "execution_count": null,
   "metadata": {
    "id": "jteMnYxjsvst"
   },
   "outputs": [],
   "source": [
    "len(llm_finetunning_data)"
   ]
  },
  {
   "cell_type": "code",
   "execution_count": null,
   "metadata": {
    "id": "1aOuMw3fs1cU"
   },
   "outputs": [],
   "source": [
    "train_sample_sz = 2700\n",
    "\n",
    "train_ds = llm_finetunning_data[:train_sample_sz]\n",
    "eval_ds = llm_finetunning_data[train_sample_sz:]\n",
    "\n",
    "os.makedirs(join(data_dir, \"datasets\", \"llamafactory-finetune-data\"), exist_ok=True)\n",
    "\n",
    "with open(join(data_dir, \"datasets\", \"llamafactory-finetune-data\", \"train.json\"), \"w\") as dest:\n",
    "    json.dump(train_ds, dest, ensure_ascii=False, default=str)\n",
    "\n",
    "with open(join(data_dir, \"datasets\", \"llamafactory-finetune-data\", \"val.json\"), \"w\", encoding=\"utf8\") as dest:\n",
    "    json.dump(eval_ds, dest, ensure_ascii=False, default=str)"
   ]
  },
  {
   "cell_type": "code",
   "execution_count": null,
   "metadata": {
    "id": "508B4sdms4Mk"
   },
   "outputs": [],
   "source": [
    "join(data_dir, \"datasets\", \"llamafactory-finetune-data\", \"val.json\")"
   ]
  },
  {
   "cell_type": "markdown",
   "metadata": {
    "id": "t08qhFcKtAa4"
   },
   "source": [
    "## Finetuning"
   ]
  },
  {
   "cell_type": "code",
   "execution_count": null,
   "metadata": {
    "id": "24TMsZ8Es_zn"
   },
   "outputs": [],
   "source": [
    "# # Configure LLaMA-Factory for the new datasets\n",
    "\n",
    "# # update /content/LLaMA-Factory/data/dataset_info.json and append\n",
    "# ```\n",
    "   \"news_finetune_train\": {\n",
    "        \"file_name\": \"/gdrive/MyDrive/youtube-resources/llm-finetuning/datasets/llamafactory-finetune-data/train.json\",\n",
    "        \"columns\": {\n",
    "            \"prompt\": \"instruction\",\n",
    "            \"query\": \"input\",\n",
    "            \"response\": \"output\",\n",
    "            \"system\": \"system\",\n",
    "            \"history\": \"history\"\n",
    "        }\n",
    "    },\n",
    "    \"news_finetune_val\": {\n",
    "        \"file_name\": \"/gdrive/MyDrive/youtube-resources/llm-finetuning/datasets/llamafactory-finetune-data/val.json\",\n",
    "        \"columns\": {\n",
    "            \"prompt\": \"instruction\",\n",
    "            \"query\": \"input\",\n",
    "            \"response\": \"output\",\n",
    "            \"system\": \"system\",\n",
    "            \"history\": \"history\"\n",
    "        }\n",
    "    }\n",
    "# ```\n",
    "\n",
    "# https://wandb.ai/mr-bakrianoo/llamafactory/runs/apwbkni9\n",
    "# https://wandb.ai/mr-bakrianoo/llamafactory/runs/c5tf0q90"
   ]
  },
  {
   "cell_type": "code",
   "execution_count": null,
   "metadata": {
    "id": "0H8KwIRN0zdS"
   },
   "outputs": [],
   "source": [
    "%%writefile /content/LLaMA-Factory/examples/train_lora/news_finetune.yaml\n",
    "\n",
    "### model\n",
    "model_name_or_path: Qwen/Qwen2.5-1.5B-Instruct\n",
    "trust_remote_code: true\n",
    "\n",
    "### method\n",
    "stage: sft\n",
    "do_train: true\n",
    "finetuning_type: lora\n",
    "lora_rank: 64\n",
    "lora_target: all\n",
    "\n",
    "### dataset\n",
    "dataset: news_finetune_train\n",
    "eval_dataset: news_finetune_val\n",
    "template: qwen\n",
    "cutoff_len: 3500\n",
    "max_samples: 50  # ← Make sure this line is not indented\n",
    "overwrite_cache: true\n",
    "preprocessing_num_workers: 16\n",
    "\n",
    "### output\n",
    "# resume_from_checkpoint: /gdrive/MyDrive/youtube-resources/llm-finetuning/models/checkpoint-1500\n",
    "output_dir: /gdrive/MyDrive/Project/model\n",
    "logging_steps: 1        # ← Lowered to log every step\n",
    "save_steps: 10          # ← Save at the final step\n",
    "plot_loss: true\n",
    "overwrite_output_dir: true\n",
    "\n",
    "### train\n",
    "per_device_train_batch_size: 1\n",
    "gradient_accumulation_steps: 4\n",
    "learning_rate: 1.0e-4\n",
    "num_train_epochs: 1.0\n",
    "max_steps: 10           # ← Reduced to 10 steps\n",
    "lr_scheduler_type: cosine\n",
    "warmup_ratio: 0.1\n",
    "bf16: true\n",
    "ddp_timeout: 180000000\n",
    "\n",
    "### eval\n",
    "per_device_eval_batch_size: 1\n",
    "eval_strategy: steps\n",
    "eval_steps: 5           # ← Lowered so it runs at least once before step 10\n",
    "\n",
    "report_to: wandb\n",
    "run_name: newsx-finetune-llamafactory\n",
    "\n",
    "push_to_hub: true\n",
    "export_hub_model_id: \"Seddik4/project\"\n",
    "hub_private_repo: true\n",
    "hub_strategy: checkpoint\n"
   ]
  },
  {
   "cell_type": "code",
   "execution_count": null,
   "metadata": {
    "collapsed": true,
    "id": "1Qtg980x1OSe"
   },
   "outputs": [],
   "source": [
    "!cd LLaMA-Factory/ && llamafactory-cli train /content/LLaMA-Factory/examples/train_lora/news_finetune.yaml"
   ]
  },
  {
   "cell_type": "markdown",
   "metadata": {
    "id": "UX11GBx-7RJm"
   },
   "source": [
    "##New Finetuned Model Evaluation"
   ]
  },
  {
   "cell_type": "code",
   "execution_count": null,
   "metadata": {
    "id": "YPdHjKfQ7VQv"
   },
   "outputs": [],
   "source": [
    "model = AutoModelForCausalLM.from_pretrained(\n",
    "    base_model_id,\n",
    "    device_map=\"auto\",\n",
    "    torch_dtype = torch_dtype\n",
    ")\n",
    "\n",
    "tokenizer = AutoTokenizer.from_pretrained(base_model_id)"
   ]
  },
  {
   "cell_type": "code",
   "execution_count": null,
   "metadata": {
    "id": "AOZfz5jI7b3J"
   },
   "outputs": [],
   "source": [
    "finetuned_model_id = \"/gdrive/MyDrive/project/model\"\n",
    "model.load_adapter(finetuned_model_id)"
   ]
  },
  {
   "cell_type": "code",
   "execution_count": null,
   "metadata": {
    "id": "HOsgpIfy7f_H"
   },
   "outputs": [],
   "source": [
    "def generate_resp(messages):\n",
    "    text = tokenizer.apply_chat_template(\n",
    "        messages,\n",
    "        tokenize=False,\n",
    "        add_generation_prompt=True\n",
    "    )\n",
    "\n",
    "    model_inputs = tokenizer([text], return_tensors=\"pt\").to(device)\n",
    "\n",
    "    generated_ids = model.generate(\n",
    "        model_inputs.input_ids,\n",
    "        max_new_tokens=1024,\n",
    "        do_sample=False, top_k=None, temperature=None, top_p=None,\n",
    "    )\n",
    "\n",
    "    generated_ids = [\n",
    "        output_ids[len(input_ids):]\n",
    "        for input_ids, output_ids in zip(model_inputs.input_ids, generated_ids)\n",
    "    ]\n",
    "\n",
    "    response = tokenizer.batch_decode(generated_ids, skip_special_tokens=True)[0]\n",
    "\n",
    "    return response\n",
    "\n",
    "response = generate_resp(details_extraction_messages)"
   ]
  },
  {
   "cell_type": "code",
   "execution_count": null,
   "metadata": {
    "collapsed": true,
    "id": "8eHj1L717itW"
   },
   "outputs": [],
   "source": [
    "parse_json(response)"
   ]
  },
  {
   "cell_type": "code",
   "execution_count": null,
   "metadata": {
    "id": "DrPw29kHPEqn"
   },
   "outputs": [],
   "source": [
    "def generate_resp(messages):\n",
    "    text = tokenizer.apply_chat_template(\n",
    "        messages,\n",
    "        tokenize=False,\n",
    "        add_generation_prompt=True\n",
    "    )\n",
    "\n",
    "    model_inputs = tokenizer([text], return_tensors=\"pt\").to(device)\n",
    "\n",
    "    generated_ids = model.generate(\n",
    "        model_inputs.input_ids,\n",
    "        max_new_tokens=1024,\n",
    "        do_sample=False, top_k=None, temperature=None, top_p=None,\n",
    "    )\n",
    "\n",
    "    generated_ids = [\n",
    "        output_ids[len(input_ids):]\n",
    "        for input_ids, output_ids in zip(model_inputs.input_ids, generated_ids)\n",
    "    ]\n",
    "\n",
    "    response = tokenizer.batch_decode(generated_ids, skip_special_tokens=True)[0]\n",
    "\n",
    "    return response\n",
    "\n",
    "response = generate_resp(translation_messages)"
   ]
  },
  {
   "cell_type": "code",
   "execution_count": null,
   "metadata": {
    "id": "mz7btKJ-POuq"
   },
   "outputs": [],
   "source": [
    "parse_json(response)"
   ]
  },
  {
   "cell_type": "markdown",
   "metadata": {
    "id": "z9ZTGydEc7n4"
   },
   "source": [
    "## Cost Estimation"
   ]
  },
  {
   "cell_type": "code",
   "execution_count": null,
   "metadata": {
    "colab": {
     "base_uri": "https://localhost:8080/",
     "height": 118,
     "referenced_widgets": [
      "9a784ce505c3416fbf96d6760aa7a603",
      "579dca36716e4f46bc3845e737d628b8",
      "52f7cc29487b45d2b123c472226ce490",
      "a2db613e46df4a978fbcf754bcec2ad5",
      "a8f260c0c87b43a294844f52157974c8",
      "fad5405f332e4b25a02785f401b8bb2f",
      "af255bc76a5d4a4399b8bf222b2a8bfa",
      "dbd3d97f844c464c91acd7bdd4191901",
      "42d32baf0e26497eab625dc489a4df21",
      "4210ac487fa6468c877caa226caf73ce",
      "176ee4c210bb401984042953502ab694"
     ]
    },
    "executionInfo": {
     "elapsed": 157101,
     "status": "ok",
     "timestamp": 1747587433624,
     "user": {
      "displayName": "Seddik Mohey",
      "userId": "07032548812332197411"
     },
     "user_tz": -180
    },
    "id": "aVHuDkIzL6vP",
    "outputId": "1b35fd23-4408-4678-d3d8-668c0401a34b"
   },
   "outputs": [
    {
     "data": {
      "application/vnd.jupyter.widget-view+json": {
       "model_id": "9a784ce505c3416fbf96d6760aa7a603",
       "version_major": 2,
       "version_minor": 0
      },
      "text/plain": [
       "  0%|          | 0/30 [00:00<?, ?it/s]"
      ]
     },
     "metadata": {},
     "output_type": "display_data"
    },
    {
     "name": "stdout",
     "output_type": "stream",
     "text": [
      "Total Time: 156.93555 seconds\n",
      "Input Tokens: 2306\n",
      "Output Tokens: 2507\n",
      "Total Tokens: 4813\n"
     ]
    }
   ],
   "source": [
    "from tqdm.auto import tqdm\n",
    "from faker import Faker\n",
    "import random\n",
    "from datetime import datetime\n",
    "\n",
    "start_time = datetime.now()\n",
    "fake = Faker('ar')\n",
    "\n",
    "input_tokens = 0\n",
    "output_tokens = 0\n",
    "\n",
    "for i in tqdm(range(30)):\n",
    "    prompt = fake.text(max_nb_chars=random.randint(150, 200))\n",
    "\n",
    "    messages = [\n",
    "        {\n",
    "            \"role\": \"user\",\n",
    "            \"content\": prompt,\n",
    "        }\n",
    "    ]\n",
    "\n",
    "    response = generate_resp(messages)\n",
    "\n",
    "    input_tokens += len(tokenizer.apply_chat_template(messages))\n",
    "    output_tokens += len(tokenizer.encode(response))\n",
    "\n",
    "total_time = (datetime.now() - start_time).total_seconds()\n",
    "\n",
    "print(f\"Total Time: {total_time} seconds\")\n",
    "print(f\"Input Tokens: {input_tokens}\")\n",
    "print(f\"Output Tokens: {output_tokens}\")\n",
    "print(f\"Total Tokens: {input_tokens + output_tokens}\")"
   ]
  },
  {
   "cell_type": "code",
   "execution_count": null,
   "metadata": {
    "colab": {
     "base_uri": "https://localhost:8080/"
    },
    "executionInfo": {
     "elapsed": 26,
     "status": "ok",
     "timestamp": 1747593788473,
     "user": {
      "displayName": "Seddik Mohey",
      "userId": "07032548812332197411"
     },
     "user_tz": -180
    },
    "id": "CW-6-qWjtGBz",
    "outputId": "6a21dfef-1380-4454-fb0e-8446a8733010"
   },
   "outputs": [
    {
     "data": {
      "text/plain": [
       "30.6686407254443"
      ]
     },
     "execution_count": 1,
     "metadata": {},
     "output_type": "execute_result"
    }
   ],
   "source": [
    "4813/156.93555"
   ]
  },
  {
   "cell_type": "code",
   "execution_count": null,
   "metadata": {
    "colab": {
     "base_uri": "https://localhost:8080/",
     "height": 211
    },
    "executionInfo": {
     "elapsed": 166,
     "status": "error",
     "timestamp": 1747599855812,
     "user": {
      "displayName": "Seddik Mohey",
      "userId": "07032548812332197411"
     },
     "user_tz": -180
    },
    "id": "Co7ddmJKEYat",
    "outputId": "3763266a-4652-45c9-950f-efb3ede7e24c"
   },
   "outputs": [
    {
     "ename": "FileNotFoundError",
     "evalue": "[Errno 2] No such file or directory: 'llm_finetuning.ipynb'",
     "output_type": "error",
     "traceback": [
      "\u001b[0;31m---------------------------------------------------------------------------\u001b[0m",
      "\u001b[0;31mFileNotFoundError\u001b[0m                         Traceback (most recent call last)",
      "\u001b[0;32m<ipython-input-6-26b316c081b1>\u001b[0m in \u001b[0;36m<cell line: 0>\u001b[0;34m()\u001b[0m\n\u001b[1;32m      6\u001b[0m \u001b[0;34m\u001b[0m\u001b[0m\n\u001b[1;32m      7\u001b[0m \u001b[0;31m# Load and fix the notebook\u001b[0m\u001b[0;34m\u001b[0m\u001b[0;34m\u001b[0m\u001b[0m\n\u001b[0;32m----> 8\u001b[0;31m \u001b[0;32mwith\u001b[0m \u001b[0mopen\u001b[0m\u001b[0;34m(\u001b[0m\u001b[0mnotebook_path\u001b[0m\u001b[0;34m,\u001b[0m \u001b[0;34m\"r\"\u001b[0m\u001b[0;34m,\u001b[0m \u001b[0mencoding\u001b[0m\u001b[0;34m=\u001b[0m\u001b[0;34m\"utf-8\"\u001b[0m\u001b[0;34m)\u001b[0m \u001b[0;32mas\u001b[0m \u001b[0mf\u001b[0m\u001b[0;34m:\u001b[0m\u001b[0;34m\u001b[0m\u001b[0;34m\u001b[0m\u001b[0m\n\u001b[0m\u001b[1;32m      9\u001b[0m     \u001b[0mnb\u001b[0m \u001b[0;34m=\u001b[0m \u001b[0mnbformat\u001b[0m\u001b[0;34m.\u001b[0m\u001b[0mread\u001b[0m\u001b[0;34m(\u001b[0m\u001b[0mf\u001b[0m\u001b[0;34m,\u001b[0m \u001b[0mas_version\u001b[0m\u001b[0;34m=\u001b[0m\u001b[0;36m4\u001b[0m\u001b[0;34m)\u001b[0m\u001b[0;34m\u001b[0m\u001b[0;34m\u001b[0m\u001b[0m\n\u001b[1;32m     10\u001b[0m \u001b[0;34m\u001b[0m\u001b[0m\n",
      "\u001b[0;31mFileNotFoundError\u001b[0m: [Errno 2] No such file or directory: 'llm_finetuning.ipynb'"
     ]
    }
   ],
   "source": []
  }
 ],
 "metadata": {
  "accelerator": "GPU",
  "colab": {
   "gpuType": "T4",
   "provenance": []
  },
  "kernelspec": {
   "display_name": "Python 3",
   "name": "python3"
  },
  "language_info": {
   "name": "python"
  }
 },
 "nbformat": 4,
 "nbformat_minor": 0
}
